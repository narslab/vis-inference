{
 "cells": [
  {
   "cell_type": "code",
   "execution_count": 1,
   "id": "ab9bdbcb-41c0-4bdf-bdd8-9413a9984f7b",
   "metadata": {},
   "outputs": [],
   "source": [
    "import pandas as pd\n",
    "import time\n",
    "from PIL import Image # used for loading images \n",
    "import numpy as np\n",
    "import os # used for navigating to image path\n",
    "import imageio # used for writing images\n",
    "import natsort\n",
    "from natsort import natsorted\n",
    "import re # for matching image file name classes\n",
    "import matplotlib.pyplot as plt\n",
    "import ntpath\n",
    "import shutil\n",
    "import csv\n",
    "from timeit import default_timer as timer\n",
    "from datetime import timedelta\n",
    "import platform"
   ]
  },
  {
   "cell_type": "code",
   "execution_count": 6,
   "id": "8efd3c20-8def-4e4b-a3ca-a3a833fa22bb",
   "metadata": {},
   "outputs": [],
   "source": [
    "RAW_IMAGE_DIR = '../../data/raw/conflict-detection/'\n",
    "TIDY_IMAGE_DIR = '../../data/tidy/labeled-images/'\n",
    "RAW_TILES_DIR = RAW_IMAGE_DIR+'split-images/all_tiles/'\n",
    "\n",
    "INDEX_DIR = '../../results/conflict-detection/index-raw/'\n",
    "\n",
    "ORIGINAL_CLASSIFICATION = RAW_IMAGE_DIR + 'tiles_assignment.xlsx'\n",
    "INDEX_LABELS = INDEX_DIR + 'labels_index.csv'\n",
    "TILES_ASSIGNMENT_CSV = RAW_IMAGE_DIR+'tile_assignment.csv'"
   ]
  },
  {
   "cell_type": "code",
   "execution_count": 3,
   "id": "d704f59b-e9b0-4e3c-baec-f5b793d9b64e",
   "metadata": {},
   "outputs": [],
   "source": [
    "def getListOfFiles(dirName):\n",
    "    \"\"\"Returns single list of the filepath of each of the image files\"\"\"\n",
    "    allFiles = list()\n",
    "    listOfFile = os.listdir(dirName)\n",
    "    # Iterate over all the entries\n",
    "    for entry in listOfFile:\n",
    "        # Create full path\n",
    "        fullPath = os.path.join(dirName, entry)\n",
    "        # If entry is a directory then get the list of files in this directory \n",
    "        if os.path.isdir(fullPath):\n",
    "            allFiles = allFiles + getListOfFiles(fullPath)\n",
    "        else:\n",
    "            allFiles.append(fullPath)\n",
    "    return allFiles"
   ]
  },
  {
   "cell_type": "code",
   "execution_count": 4,
   "id": "9975f51c-0a56-4ca1-8a82-a7a91d5604c7",
   "metadata": {},
   "outputs": [],
   "source": [
    "def label_conflict_tiles(image_file_list):\n",
    "    c_cnt = n_cnt = 0\n",
    "    csv_col_index = ['labeled_tile', 'original_tile_path']\n",
    "    index = {}\n",
    "    read_file = pd.read_excel(ORIGINAL_CLASSIFICATION,engine='openpyxl')\n",
    "    read_file.to_csv(TILES_ASSIGNMENT_CSV, index = None, header=True)\n",
    "    df = pd.read_csv(TILES_ASSIGNMENT_CSV)\n",
    "    df = df.iloc[1: , :]\n",
    "    shutil.rmtree(TIDY_IMAGE_DIR, ignore_errors=True) # Deletes the directory containing any existing labeled images\n",
    "    shutil.rmtree(INDEX_DIR, ignore_errors=True)\n",
    "    if not os.path.exists(TIDY_IMAGE_DIR):\n",
    "        os.makedirs(TIDY_IMAGE_DIR)\n",
    "    for file in image_file_list:\n",
    "        tile_name = file.split(\"all_tiles/\",1)[1].split(\".jpg\",1)[0]\n",
    "        for row in df.itertuples():\n",
    "            image_name = row.Filename\n",
    "            classification = row.Classification\n",
    "            if image_name == tile_name:\n",
    "                if classification == 'N':\n",
    "                    save_name = TIDY_IMAGE_DIR+classification.lower()+'_'+str(n_cnt) + '.jpg'\n",
    "                    n_cnt += 1\n",
    "                else:\n",
    "                    save_name = TIDY_IMAGE_DIR+classification.lower()+'_'+str(c_cnt) + '.jpg'\n",
    "                    c_cnt += 1\n",
    "                imageio.imwrite(save_name, np.array(Image.open(file)))\n",
    "                index[save_name] = file\n",
    "    if not os.path.exists(INDEX_DIR):\n",
    "        os.makedirs(INDEX_DIR)\n",
    "    with open(INDEX_LABELS, 'w', newline='') as f: # TODO: separate by tab not comma\n",
    "        writer = csv.DictWriter(f, fieldnames=csv_col_index)\n",
    "        writer.writeheader()\n",
    "        for key in natsort.natsorted(index.keys()): # iterate through the alphanumeric keys in a natural order\n",
    "            key_name = key.replace(TIDY_IMAGE_DIR,'')\n",
    "            val_name = index[key]\n",
    "            f.write(\"%s,%s\\n\"%(key_name,val_name))\n",
    "    print('Number of conflict tiles:', c_cnt)    \n",
    "    print('Number of non-conflict tiles:', n_cnt)"
   ]
  },
  {
   "cell_type": "code",
   "execution_count": 5,
   "id": "0d155eec-3532-4643-8bc7-fb55150044d8",
   "metadata": {},
   "outputs": [
    {
     "name": "stdout",
     "output_type": "stream",
     "text": [
      "Number of conflict tiles: 1183\n",
      "Number of non-conflict tiles: 4892\n",
      "Time elapsed: 0min 34sec\n"
     ]
    }
   ],
   "source": [
    "start = time.time()\n",
    "all_tiles = getListOfFiles(RAW_TILES_DIR)\n",
    "label_conflict_tiles(all_tiles)\n",
    "end = time.time()\n",
    "elapsed = end - start\n",
    "print('Time elapsed: {m}min {s}sec'.format(m=int(elapsed//60),s=int(np.round(elapsed%60,0))))"
   ]
  }
 ],
 "metadata": {
  "kernelspec": {
   "display_name": "Python 3 (ipykernel)",
   "language": "python",
   "name": "python3"
  },
  "language_info": {
   "codemirror_mode": {
    "name": "ipython",
    "version": 3
   },
   "file_extension": ".py",
   "mimetype": "text/x-python",
   "name": "python",
   "nbconvert_exporter": "python",
   "pygments_lexer": "ipython3",
   "version": "3.10.2"
  }
 },
 "nbformat": 4,
 "nbformat_minor": 5
}
